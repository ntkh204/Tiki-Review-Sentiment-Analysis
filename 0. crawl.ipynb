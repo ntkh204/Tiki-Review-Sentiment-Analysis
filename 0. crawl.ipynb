{
 "cells": [
  {
   "cell_type": "code",
   "metadata": {
    "ExecuteTime": {
     "end_time": "2024-10-07T18:09:19.483474Z",
     "start_time": "2024-10-07T18:09:16.526262Z"
    }
   },
   "source": [
    "import requests\n",
    "import json\n",
    "from tqdm import tqdm\n",
    "import pandas as pd \n",
    "import csv\n",
    "import time\n",
    "import random"
   ],
   "outputs": [
    {
     "ename": "ModuleNotFoundError",
     "evalue": "No module named 'tqdm'",
     "output_type": "error",
     "traceback": [
      "\u001B[1;31m---------------------------------------------------------------------------\u001B[0m",
      "\u001B[1;31mModuleNotFoundError\u001B[0m                       Traceback (most recent call last)",
      "Cell \u001B[1;32mIn[1], line 3\u001B[0m\n\u001B[0;32m      1\u001B[0m \u001B[38;5;28;01mimport\u001B[39;00m \u001B[38;5;21;01mrequests\u001B[39;00m\n\u001B[0;32m      2\u001B[0m \u001B[38;5;28;01mimport\u001B[39;00m \u001B[38;5;21;01mjson\u001B[39;00m\n\u001B[1;32m----> 3\u001B[0m \u001B[38;5;28;01mfrom\u001B[39;00m \u001B[38;5;21;01mtqdm\u001B[39;00m \u001B[38;5;28;01mimport\u001B[39;00m tqdm\n\u001B[0;32m      4\u001B[0m \u001B[38;5;28;01mimport\u001B[39;00m \u001B[38;5;21;01mpandas\u001B[39;00m \u001B[38;5;28;01mas\u001B[39;00m \u001B[38;5;21;01mpd\u001B[39;00m \n\u001B[0;32m      5\u001B[0m \u001B[38;5;28;01mimport\u001B[39;00m \u001B[38;5;21;01mcsv\u001B[39;00m\n",
      "\u001B[1;31mModuleNotFoundError\u001B[0m: No module named 'tqdm'"
     ]
    }
   ],
   "execution_count": 1
  },
  {
   "cell_type": "code",
   "execution_count": 4,
   "metadata": {},
   "outputs": [],
   "source": [
    "nha_sach_tiki_url = \"https://tiki.vn/api/personalish/v1/blocks/listings?limit=40&include=advertisement&aggregations=2&version=home-persionalized&trackity_id=7588cc77-9f00-4829-803b-dcf326be58e0&category=8322&page={}&urlKey=nha-sach-tiki\"\n",
    "product_url = \"https://tiki.vn/api/v2/products/{}\"\n",
    "review_url = \"https://tiki.vn/api/v2/reviews?product_id={}\"\n",
    "\n",
    "headers = {\"User-Agent\": \"Mozilla/5.0 (Windows NT 10.0; Win64; x64) AppleWebKit/537.36 (KHTML, like Gecko) Chrome/124.0.0.0 Safari/537.36\", \"Content-Type\": \"application/json; charset=utf-8\"}"
   ]
  },
  {
   "cell_type": "code",
   "execution_count": 5,
   "metadata": {},
   "outputs": [],
   "source": [
    "def crawl_product_id():\n",
    "    product_list = []\n",
    "    i = 1\n",
    "    while True:\n",
    "        print(\"Crawl page: \", i)\n",
    "        response =  requests.get(nha_sach_tiki_url.format(i), headers=headers)\n",
    "        if(response.status_code != 200):\n",
    "            break\n",
    "        products = json.loads(response.text)[\"data\"]\n",
    "        if(len(products) == 0):\n",
    "            break\n",
    "        for product in products:\n",
    "            product_id = str(product[\"id\"])\n",
    "            product_list.append(product_id)\n",
    "        i += 1\n",
    "    return product_list, i"
   ]
  },
  {
   "cell_type": "code",
   "execution_count": 6,
   "metadata": {},
   "outputs": [
    {
     "name": "stdout",
     "output_type": "stream",
     "text": [
      "Crawl page:  1\n",
      "Crawl page:  2\n",
      "Crawl page:  3\n",
      "Crawl page:  4\n",
      "Crawl page:  5\n",
      "Crawl page:  6\n",
      "Crawl page:  7\n",
      "Crawl page:  8\n",
      "Crawl page:  9\n",
      "Crawl page:  10\n",
      "Crawl page:  11\n",
      "Crawl page:  12\n",
      "Crawl page:  13\n",
      "Crawl page:  14\n",
      "Crawl page:  15\n",
      "Crawl page:  16\n",
      "Crawl page:  17\n",
      "Crawl page:  18\n",
      "Crawl page:  19\n",
      "Crawl page:  20\n",
      "Crawl page:  21\n",
      "Crawl page:  22\n",
      "Crawl page:  23\n",
      "Crawl page:  24\n",
      "Crawl page:  25\n",
      "Crawl page:  26\n",
      "Crawl page:  27\n",
      "Crawl page:  28\n",
      "Crawl page:  29\n",
      "Crawl page:  30\n",
      "Crawl page:  31\n",
      "Crawl page:  32\n",
      "Crawl page:  33\n",
      "Crawl page:  34\n",
      "Crawl page:  35\n",
      "Crawl page:  36\n",
      "Crawl page:  37\n",
      "Crawl page:  38\n",
      "Crawl page:  39\n",
      "Crawl page:  40\n",
      "Crawl page:  41\n",
      "Crawl page:  42\n",
      "Crawl page:  43\n",
      "Crawl page:  44\n",
      "Crawl page:  45\n",
      "Crawl page:  46\n",
      "Crawl page:  47\n",
      "Crawl page:  48\n",
      "Crawl page:  49\n",
      "Crawl page:  50\n",
      "Crawl page:  51\n"
     ]
    }
   ],
   "source": [
    "product_list, page = crawl_product_id()"
   ]
  },
  {
   "cell_type": "code",
   "execution_count": 21,
   "metadata": {},
   "outputs": [],
   "source": [
    "def crawl_review(product_list = []):\n",
    "    reviews_list = []\n",
    "    for product_id in tqdm(product_list):\n",
    "        response = requests.get(review_url.format(product_id), headers=headers)\n",
    "        if response.status_code == 200:\n",
    "            reviews = response.json().get('data')\n",
    "            for review in reviews:\n",
    "                keys = ['id', 'title', 'content', 'thank_count', 'customer_id', 'rating', 'product_id']\n",
    "                new_review = {key: review[key] for key in keys}\n",
    "                reviews_list.append(new_review)\n",
    "        break\n",
    "        time.sleep(random.randrange(1, 5))\n",
    "    return reviews_list"
   ]
  },
  {
   "cell_type": "code",
   "execution_count": 22,
   "metadata": {},
   "outputs": [
    {
     "name": "stderr",
     "output_type": "stream",
     "text": [
      "  0%|          | 0/2000 [00:00<?, ?it/s]\n"
     ]
    }
   ],
   "source": [
    "reviews_list = crawl_review(product_list)"
   ]
  },
  {
   "cell_type": "code",
   "execution_count": 9,
   "metadata": {},
   "outputs": [],
   "source": [
    "def save_to_csv(reviews_list, path):\n",
    "    df = pd.DataFrame(reviews_list[:1])\n",
    "    df.to_csv(path, index=False, encoding='utf-8', mode='w')\n",
    "    \n",
    "    for review in reviews_list[1:]:\n",
    "        df = pd.DataFrame([review])\n",
    "        df.to_csv(path, index=False, encoding='utf-8', mode='a', header=False)"
   ]
  },
  {
   "cell_type": "code",
   "execution_count": 10,
   "metadata": {},
   "outputs": [],
   "source": [
    "#save_to_csv(reviews_list, \"./data/review.csv\")"
   ]
  }
 ],
 "metadata": {
  "kernelspec": {
   "display_name": "Python (tiki)",
   "language": "python",
   "name": "tiki"
  },
  "language_info": {
   "codemirror_mode": {
    "name": "ipython",
    "version": 3
   },
   "file_extension": ".py",
   "mimetype": "text/x-python",
   "name": "python",
   "nbconvert_exporter": "python",
   "pygments_lexer": "ipython3",
   "version": "3.9.13"
  }
 },
 "nbformat": 4,
 "nbformat_minor": 2
}
