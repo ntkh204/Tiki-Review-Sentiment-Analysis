{
 "cells": [
  {
   "cell_type": "markdown",
   "metadata": {},
   "source": [
    "**IMPORT THƯ VIỆC CẦN THIẾT**"
   ]
  },
  {
   "cell_type": "code",
   "execution_count": 29,
   "metadata": {
    "ExecuteTime": {
     "end_time": "2024-10-08T05:39:57.302466Z",
     "start_time": "2024-10-08T05:39:50.462557Z"
    }
   },
   "outputs": [],
   "source": [
    "import pandas as pd\n",
    "import numpy as np\n",
    "from sklearn.feature_extraction.text import TfidfVectorizer\n",
    "from imblearn import under_sampling, over_sampling\n",
    "from imblearn.over_sampling import SMOTE\n",
    "from sklearn.model_selection import train_test_split\n",
    "from sklearn import metrics\n",
    "from sklearn.metrics import accuracy_score, f1_score\n",
    "from sklearn.model_selection import cross_val_score\n",
    "from sklearn.preprocessing import LabelEncoder\n",
    "from sklearn.svm import SVC\n",
    "from sklearn.ensemble import RandomForestClassifier\n",
    "from sklearn.linear_model import LogisticRegression\n",
    "from sklearn.model_selection import GridSearchCV"
   ]
  },
  {
   "cell_type": "markdown",
   "metadata": {},
   "source": [
    "**DỮ LIỆU** "
   ]
  },
  {
   "cell_type": "markdown",
   "metadata": {},
   "source": [
    "**Đọc dữ liệu**"
   ]
  },
  {
   "cell_type": "code",
   "execution_count": 30,
   "metadata": {
    "ExecuteTime": {
     "end_time": "2024-10-08T05:49:01.606870Z",
     "start_time": "2024-10-08T05:49:01.232683Z"
    }
   },
   "outputs": [
    {
     "data": {
      "text/html": [
       "<div>\n",
       "<style scoped>\n",
       "    .dataframe tbody tr th:only-of-type {\n",
       "        vertical-align: middle;\n",
       "    }\n",
       "\n",
       "    .dataframe tbody tr th {\n",
       "        vertical-align: top;\n",
       "    }\n",
       "\n",
       "    .dataframe thead th {\n",
       "        text-align: right;\n",
       "    }\n",
       "</style>\n",
       "<table border=\"1\" class=\"dataframe\">\n",
       "  <thead>\n",
       "    <tr style=\"text-align: right;\">\n",
       "      <th></th>\n",
       "      <th>id</th>\n",
       "      <th>clean_content</th>\n",
       "      <th>class</th>\n",
       "    </tr>\n",
       "  </thead>\n",
       "  <tbody>\n",
       "    <tr>\n",
       "      <th>0</th>\n",
       "      <td>19906519</td>\n",
       "      <td>phản_ánh tác_giả sách_trùng sách nước_ngoài nh...</td>\n",
       "      <td>positive</td>\n",
       "    </tr>\n",
       "    <tr>\n",
       "      <th>1</th>\n",
       "      <td>19968834</td>\n",
       "      <td>tạm_thời ổn đọc review hj yhanks</td>\n",
       "      <td>positive</td>\n",
       "    </tr>\n",
       "    <tr>\n",
       "      <th>2</th>\n",
       "      <td>19943636</td>\n",
       "      <td>quyển sách tựa_đề lầm khách_hàng viết không đủ...</td>\n",
       "      <td>negative</td>\n",
       "    </tr>\n",
       "    <tr>\n",
       "      <th>3</th>\n",
       "      <td>19919040</td>\n",
       "      <td>giao hàng đóng_gói cẩn_thận</td>\n",
       "      <td>positive</td>\n",
       "    </tr>\n",
       "    <tr>\n",
       "      <th>4</th>\n",
       "      <td>19963835</td>\n",
       "      <td>tạm đọc sách tác_giả nội_sưu_tầm trùng_lặp</td>\n",
       "      <td>negative</td>\n",
       "    </tr>\n",
       "  </tbody>\n",
       "</table>\n",
       "</div>"
      ],
      "text/plain": [
       "         id                                      clean_content     class\n",
       "0  19906519  phản_ánh tác_giả sách_trùng sách nước_ngoài nh...  positive\n",
       "1  19968834                   tạm_thời ổn đọc review hj yhanks  positive\n",
       "2  19943636  quyển sách tựa_đề lầm khách_hàng viết không đủ...  negative\n",
       "3  19919040                        giao hàng đóng_gói cẩn_thận  positive\n",
       "4  19963835         tạm đọc sách tác_giả nội_sưu_tầm trùng_lặp  negative"
      ]
     },
     "execution_count": 30,
     "metadata": {},
     "output_type": "execute_result"
    }
   ],
   "source": [
    "data = pd.read_csv('data/train_data.csv')\n",
    "data.head()"
   ]
  },
  {
   "cell_type": "code",
   "execution_count": 31,
   "metadata": {},
   "outputs": [
    {
     "data": {
      "text/plain": [
       "(14823, 3)"
      ]
     },
     "execution_count": 31,
     "metadata": {},
     "output_type": "execute_result"
    }
   ],
   "source": [
    "data.shape"
   ]
  },
  {
   "cell_type": "markdown",
   "metadata": {},
   "source": [
    "**Xóa null và duplicate data**"
   ]
  },
  {
   "cell_type": "code",
   "execution_count": 32,
   "metadata": {},
   "outputs": [
    {
     "data": {
      "text/plain": [
       "(14823, 3)"
      ]
     },
     "execution_count": 32,
     "metadata": {},
     "output_type": "execute_result"
    }
   ],
   "source": [
    "data.dropna(subset='clean_content', inplace=True)\n",
    "data.drop_duplicates(subset='clean_content', inplace=True)\n",
    "data['class'] = data['class'].str.strip()\n",
    "data.shape"
   ]
  },
  {
   "cell_type": "code",
   "execution_count": 33,
   "metadata": {},
   "outputs": [
    {
     "data": {
      "text/plain": [
       "class\n",
       "positive    11353\n",
       "negative     3470\n",
       "Name: count, dtype: int64"
      ]
     },
     "execution_count": 33,
     "metadata": {},
     "output_type": "execute_result"
    }
   ],
   "source": [
    "data['class'].value_counts()"
   ]
  },
  {
   "cell_type": "markdown",
   "metadata": {},
   "source": [
    "**FEATURE ENGINEERING**"
   ]
  },
  {
   "cell_type": "markdown",
   "metadata": {},
   "source": [
    "**Mã hóa biến mục tiêu**"
   ]
  },
  {
   "cell_type": "code",
   "execution_count": 34,
   "metadata": {},
   "outputs": [],
   "source": [
    "data['class'] = data['class'].map({'positive': 1, 'negative': 0})"
   ]
  },
  {
   "cell_type": "code",
   "execution_count": 35,
   "metadata": {},
   "outputs": [
    {
     "data": {
      "text/plain": [
       "class\n",
       "1    11353\n",
       "0     3470\n",
       "Name: count, dtype: int64"
      ]
     },
     "execution_count": 35,
     "metadata": {},
     "output_type": "execute_result"
    }
   ],
   "source": [
    "data['class'].value_counts()"
   ]
  },
  {
   "cell_type": "markdown",
   "metadata": {},
   "source": [
    "**TFIDF VECTORIZER**"
   ]
  },
  {
   "cell_type": "code",
   "execution_count": 36,
   "metadata": {},
   "outputs": [],
   "source": [
    "tfidf_vectorizer = TfidfVectorizer(ngram_range=(1,5), max_df=0.5, min_df=5, sublinear_tf=True, norm='l2')"
   ]
  },
  {
   "cell_type": "code",
   "execution_count": 37,
   "metadata": {},
   "outputs": [],
   "source": [
    "texts = tfidf_vectorizer.fit_transform(data['clean_content'].values.astype('U'))"
   ]
  },
  {
   "cell_type": "code",
   "execution_count": 38,
   "metadata": {},
   "outputs": [],
   "source": [
    "df = pd.DataFrame(texts.toarray(), columns=tfidf_vectorizer.get_feature_names_out())"
   ]
  },
  {
   "cell_type": "code",
   "execution_count": 39,
   "metadata": {},
   "outputs": [
    {
     "data": {
      "text/html": [
       "<div>\n",
       "<style scoped>\n",
       "    .dataframe tbody tr th:only-of-type {\n",
       "        vertical-align: middle;\n",
       "    }\n",
       "\n",
       "    .dataframe tbody tr th {\n",
       "        vertical-align: top;\n",
       "    }\n",
       "\n",
       "    .dataframe thead th {\n",
       "        text-align: right;\n",
       "    }\n",
       "</style>\n",
       "<table border=\"1\" class=\"dataframe\">\n",
       "  <thead>\n",
       "    <tr style=\"text-align: right;\">\n",
       "      <th></th>\n",
       "      <th>a_z</th>\n",
       "      <th>achilles</th>\n",
       "      <th>afghanistan</th>\n",
       "      <th>agatha</th>\n",
       "      <th>agatha christie</th>\n",
       "      <th>ah</th>\n",
       "      <th>all</th>\n",
       "      <th>amazon</th>\n",
       "      <th>anh_chị</th>\n",
       "      <th>anne</th>\n",
       "      <th>...</th>\n",
       "      <th>ủng_hộ shop</th>\n",
       "      <th>ủng_hộ sách</th>\n",
       "      <th>ủng_hộ tiki</th>\n",
       "      <th>ủng_hộ tiếp</th>\n",
       "      <th>ủng_hộ tác_giả</th>\n",
       "      <th>ủng_hộ tương</th>\n",
       "      <th>ức_chế</th>\n",
       "      <th>ứng_dụng</th>\n",
       "      <th>ứng_dụng sách</th>\n",
       "      <th>ứng_xử</th>\n",
       "    </tr>\n",
       "  </thead>\n",
       "  <tbody>\n",
       "    <tr>\n",
       "      <th>0</th>\n",
       "      <td>0.0</td>\n",
       "      <td>0.0</td>\n",
       "      <td>0.0</td>\n",
       "      <td>0.0</td>\n",
       "      <td>0.0</td>\n",
       "      <td>0.0</td>\n",
       "      <td>0.0</td>\n",
       "      <td>0.0</td>\n",
       "      <td>0.0</td>\n",
       "      <td>0.0</td>\n",
       "      <td>...</td>\n",
       "      <td>0.0</td>\n",
       "      <td>0.0</td>\n",
       "      <td>0.0</td>\n",
       "      <td>0.0</td>\n",
       "      <td>0.0</td>\n",
       "      <td>0.0</td>\n",
       "      <td>0.0</td>\n",
       "      <td>0.0</td>\n",
       "      <td>0.0</td>\n",
       "      <td>0.0</td>\n",
       "    </tr>\n",
       "    <tr>\n",
       "      <th>1</th>\n",
       "      <td>0.0</td>\n",
       "      <td>0.0</td>\n",
       "      <td>0.0</td>\n",
       "      <td>0.0</td>\n",
       "      <td>0.0</td>\n",
       "      <td>0.0</td>\n",
       "      <td>0.0</td>\n",
       "      <td>0.0</td>\n",
       "      <td>0.0</td>\n",
       "      <td>0.0</td>\n",
       "      <td>...</td>\n",
       "      <td>0.0</td>\n",
       "      <td>0.0</td>\n",
       "      <td>0.0</td>\n",
       "      <td>0.0</td>\n",
       "      <td>0.0</td>\n",
       "      <td>0.0</td>\n",
       "      <td>0.0</td>\n",
       "      <td>0.0</td>\n",
       "      <td>0.0</td>\n",
       "      <td>0.0</td>\n",
       "    </tr>\n",
       "    <tr>\n",
       "      <th>2</th>\n",
       "      <td>0.0</td>\n",
       "      <td>0.0</td>\n",
       "      <td>0.0</td>\n",
       "      <td>0.0</td>\n",
       "      <td>0.0</td>\n",
       "      <td>0.0</td>\n",
       "      <td>0.0</td>\n",
       "      <td>0.0</td>\n",
       "      <td>0.0</td>\n",
       "      <td>0.0</td>\n",
       "      <td>...</td>\n",
       "      <td>0.0</td>\n",
       "      <td>0.0</td>\n",
       "      <td>0.0</td>\n",
       "      <td>0.0</td>\n",
       "      <td>0.0</td>\n",
       "      <td>0.0</td>\n",
       "      <td>0.0</td>\n",
       "      <td>0.0</td>\n",
       "      <td>0.0</td>\n",
       "      <td>0.0</td>\n",
       "    </tr>\n",
       "    <tr>\n",
       "      <th>3</th>\n",
       "      <td>0.0</td>\n",
       "      <td>0.0</td>\n",
       "      <td>0.0</td>\n",
       "      <td>0.0</td>\n",
       "      <td>0.0</td>\n",
       "      <td>0.0</td>\n",
       "      <td>0.0</td>\n",
       "      <td>0.0</td>\n",
       "      <td>0.0</td>\n",
       "      <td>0.0</td>\n",
       "      <td>...</td>\n",
       "      <td>0.0</td>\n",
       "      <td>0.0</td>\n",
       "      <td>0.0</td>\n",
       "      <td>0.0</td>\n",
       "      <td>0.0</td>\n",
       "      <td>0.0</td>\n",
       "      <td>0.0</td>\n",
       "      <td>0.0</td>\n",
       "      <td>0.0</td>\n",
       "      <td>0.0</td>\n",
       "    </tr>\n",
       "    <tr>\n",
       "      <th>4</th>\n",
       "      <td>0.0</td>\n",
       "      <td>0.0</td>\n",
       "      <td>0.0</td>\n",
       "      <td>0.0</td>\n",
       "      <td>0.0</td>\n",
       "      <td>0.0</td>\n",
       "      <td>0.0</td>\n",
       "      <td>0.0</td>\n",
       "      <td>0.0</td>\n",
       "      <td>0.0</td>\n",
       "      <td>...</td>\n",
       "      <td>0.0</td>\n",
       "      <td>0.0</td>\n",
       "      <td>0.0</td>\n",
       "      <td>0.0</td>\n",
       "      <td>0.0</td>\n",
       "      <td>0.0</td>\n",
       "      <td>0.0</td>\n",
       "      <td>0.0</td>\n",
       "      <td>0.0</td>\n",
       "      <td>0.0</td>\n",
       "    </tr>\n",
       "  </tbody>\n",
       "</table>\n",
       "<p>5 rows × 9940 columns</p>\n",
       "</div>"
      ],
      "text/plain": [
       "   a_z  achilles  afghanistan  agatha  agatha christie   ah  all  amazon  \\\n",
       "0  0.0       0.0          0.0     0.0              0.0  0.0  0.0     0.0   \n",
       "1  0.0       0.0          0.0     0.0              0.0  0.0  0.0     0.0   \n",
       "2  0.0       0.0          0.0     0.0              0.0  0.0  0.0     0.0   \n",
       "3  0.0       0.0          0.0     0.0              0.0  0.0  0.0     0.0   \n",
       "4  0.0       0.0          0.0     0.0              0.0  0.0  0.0     0.0   \n",
       "\n",
       "   anh_chị  anne  ...  ủng_hộ shop  ủng_hộ sách  ủng_hộ tiki  ủng_hộ tiếp  \\\n",
       "0      0.0   0.0  ...          0.0          0.0          0.0          0.0   \n",
       "1      0.0   0.0  ...          0.0          0.0          0.0          0.0   \n",
       "2      0.0   0.0  ...          0.0          0.0          0.0          0.0   \n",
       "3      0.0   0.0  ...          0.0          0.0          0.0          0.0   \n",
       "4      0.0   0.0  ...          0.0          0.0          0.0          0.0   \n",
       "\n",
       "   ủng_hộ tác_giả  ủng_hộ tương  ức_chế  ứng_dụng  ứng_dụng sách  ứng_xử  \n",
       "0             0.0           0.0     0.0       0.0            0.0     0.0  \n",
       "1             0.0           0.0     0.0       0.0            0.0     0.0  \n",
       "2             0.0           0.0     0.0       0.0            0.0     0.0  \n",
       "3             0.0           0.0     0.0       0.0            0.0     0.0  \n",
       "4             0.0           0.0     0.0       0.0            0.0     0.0  \n",
       "\n",
       "[5 rows x 9940 columns]"
      ]
     },
     "execution_count": 39,
     "metadata": {},
     "output_type": "execute_result"
    }
   ],
   "source": [
    "df.head()"
   ]
  },
  {
   "cell_type": "code",
   "execution_count": 40,
   "metadata": {},
   "outputs": [
    {
     "data": {
      "text/plain": [
       "(14823, 9940)"
      ]
     },
     "execution_count": 40,
     "metadata": {},
     "output_type": "execute_result"
    }
   ],
   "source": [
    "texts.shape"
   ]
  },
  {
   "cell_type": "code",
   "execution_count": 41,
   "metadata": {},
   "outputs": [],
   "source": [
    "labels = data['class']"
   ]
  },
  {
   "cell_type": "code",
   "execution_count": 42,
   "metadata": {},
   "outputs": [
    {
     "name": "stdout",
     "output_type": "stream",
     "text": [
      "(14823, 9940) (14823,)\n"
     ]
    }
   ],
   "source": [
    "print(texts.shape, labels.shape)"
   ]
  },
  {
   "cell_type": "markdown",
   "metadata": {},
   "source": [
    "**XỬ LÝ DỮ LIỆU MẤT CÂN BẰNG BẰNG SMOTE**\n"
   ]
  },
  {
   "cell_type": "code",
   "execution_count": 43,
   "metadata": {},
   "outputs": [],
   "source": [
    "smt = SMOTE(random_state=42)\n",
    "texts_smt, labels_smt = smt.fit_resample(texts,labels)"
   ]
  },
  {
   "cell_type": "code",
   "execution_count": 44,
   "metadata": {},
   "outputs": [
    {
     "data": {
      "text/plain": [
       "(22706, 9940)"
      ]
     },
     "execution_count": 44,
     "metadata": {},
     "output_type": "execute_result"
    }
   ],
   "source": [
    "texts_smt.shape"
   ]
  },
  {
   "cell_type": "code",
   "execution_count": 45,
   "metadata": {},
   "outputs": [
    {
     "data": {
      "text/plain": [
       "(22706,)"
      ]
     },
     "execution_count": 45,
     "metadata": {},
     "output_type": "execute_result"
    }
   ],
   "source": [
    "labels_smt.shape"
   ]
  },
  {
   "cell_type": "markdown",
   "metadata": {},
   "source": [
    "**CHIA DATA THÀNH TẬP TRAIN VÀ TẬP TEST**"
   ]
  },
  {
   "cell_type": "code",
   "execution_count": 46,
   "metadata": {},
   "outputs": [],
   "source": [
    "X_train, X_test, y_train, y_test = train_test_split(texts_smt, labels_smt, test_size=0.3, random_state=42)"
   ]
  },
  {
   "cell_type": "markdown",
   "metadata": {},
   "source": [
    "**HUẤN LUYỆN MÔ HÌNH VỚI HỌC MÁY**"
   ]
  },
  {
   "cell_type": "markdown",
   "metadata": {},
   "source": [
    "**Chọn model**"
   ]
  },
  {
   "cell_type": "code",
   "execution_count": 47,
   "metadata": {},
   "outputs": [],
   "source": [
    "LogReg = LogisticRegression()\n",
    "SVCModel = SVC()\n",
    "RForest = RandomForestClassifier()\n",
    "\n",
    "models = [LogReg, SVCModel, RForest]\n",
    "models_dict = {0: \"Logistic Regression\", 1: \"SVC\", 2: \"Random Forest\"}"
   ]
  },
  {
   "cell_type": "code",
   "execution_count": 48,
   "metadata": {},
   "outputs": [
    {
     "name": "stdout",
     "output_type": "stream",
     "text": [
      "Classification Report for model Logistic Regression:\n",
      "               precision    recall  f1-score   support\n",
      "\n",
      "           1      0.921     0.886     0.903      3380\n",
      "           0      0.891     0.925     0.908      3432\n",
      "\n",
      "    accuracy                          0.905      6812\n",
      "   macro avg      0.906     0.905     0.905      6812\n",
      "weighted avg      0.906     0.905     0.905      6812\n",
      "\n",
      "Classification Report for model SVC:\n",
      "               precision    recall  f1-score   support\n",
      "\n",
      "           1      0.930     0.969     0.949      3380\n",
      "           0      0.968     0.928     0.948      3432\n",
      "\n",
      "    accuracy                          0.948      6812\n",
      "   macro avg      0.949     0.948     0.948      6812\n",
      "weighted avg      0.949     0.948     0.948      6812\n",
      "\n",
      "Classification Report for model Random Forest:\n",
      "               precision    recall  f1-score   support\n",
      "\n",
      "           1      0.943     0.899     0.920      3380\n",
      "           0      0.905     0.947     0.925      3432\n",
      "\n",
      "    accuracy                          0.923      6812\n",
      "   macro avg      0.924     0.923     0.923      6812\n",
      "weighted avg      0.924     0.923     0.923      6812\n",
      "\n"
     ]
    }
   ],
   "source": [
    "results = []\n",
    "\n",
    "for i, model in enumerate(models):\n",
    "    model.fit(X_train, y_train)\n",
    "    y_pred = model.predict(X_test)\n",
    "    report1 = metrics.classification_report(y_test, y_pred, labels=[1,0], digits=3)\n",
    "    print(f\"Classification Report for model {models_dict[i]}:\\n\", report1)"
   ]
  },
  {
   "cell_type": "markdown",
   "metadata": {},
   "source": [
    "**Hyperparameter Tuning**"
   ]
  },
  {
   "cell_type": "code",
   "execution_count": 49,
   "metadata": {},
   "outputs": [
    {
     "name": "stdout",
     "output_type": "stream",
     "text": [
      "Best score: 0.946\n",
      "Best estimator: SVC(C=4, gamma=2)\n",
      "Best parameters: {'C': 4, 'gamma': 2, 'kernel': 'rbf'}\n"
     ]
    }
   ],
   "source": [
    "parameters = {\n",
    "    'kernel': ('linear', 'rbf'),\n",
    "    'C': [0.125, 0.25, 0.5, 1, 2, 4],\n",
    "    'gamma': [0.125, 0.25, 0.5, 1, 2, 4]\n",
    "}\n",
    "\n",
    "grid = GridSearchCV(SVCModel, param_grid=parameters, scoring='accuracy', cv=5)  \n",
    "grid_search = grid.fit(X_train, y_train)\n",
    "\n",
    "print(\"Best score: %0.3f\" % grid_search.best_score_)\n",
    "print(\"Best estimator:\", grid_search.best_estimator_)\n",
    "print('Best parameters:', grid.best_params_)"
   ]
  },
  {
   "cell_type": "markdown",
   "metadata": {},
   "source": [
    "**Xây dựng mô hình**"
   ]
  },
  {
   "cell_type": "code",
   "execution_count": 50,
   "metadata": {},
   "outputs": [
    {
     "name": "stdout",
     "output_type": "stream",
     "text": [
      "Classification Report on Test Set:\n",
      "               precision    recall  f1-score   support\n",
      "\n",
      "           1      0.941     0.975     0.957      3380\n",
      "           0      0.974     0.940     0.957      3432\n",
      "\n",
      "    accuracy                          0.957      6812\n",
      "   macro avg      0.957     0.957     0.957      6812\n",
      "weighted avg      0.958     0.957     0.957      6812\n",
      "\n"
     ]
    }
   ],
   "source": [
    "model = SVC(C=4, gamma=2, kernel='rbf')\n",
    "model.fit(X_train, y_train)\n",
    "y_pred = model.predict(X_test)\n",
    "\n",
    "report1 = metrics.classification_report(y_test, y_pred, labels=[1, 0], digits=3)\n",
    "print(\"Classification Report on Test Set:\\n\", report1)"
   ]
  },
  {
   "cell_type": "markdown",
   "metadata": {},
   "source": [
    "**Kiểm tra overfitting để phát hiện ra lỗi**"
   ]
  },
  {
   "cell_type": "code",
   "execution_count": 51,
   "metadata": {},
   "outputs": [
    {
     "name": "stdout",
     "output_type": "stream",
     "text": [
      "Classification Report on Train Set:\n",
      "               precision    recall  f1-score   support\n",
      "\n",
      "           1      1.000     0.998     0.999      7973\n",
      "           0      0.998     1.000     0.999      7921\n",
      "\n",
      "    accuracy                          0.999     15894\n",
      "   macro avg      0.999     0.999     0.999     15894\n",
      "weighted avg      0.999     0.999     0.999     15894\n",
      "\n"
     ]
    }
   ],
   "source": [
    "model = SVC(C=4, gamma=2, kernel='rbf')\n",
    "model.fit(X_train, y_train)\n",
    "y_train_pred = model.predict(X_train)\n",
    "report2 = metrics.classification_report(y_train, y_train_pred, labels=[1,0], digits=3)\n",
    "print(\"Classification Report on Train Set:\\n\", report2)"
   ]
  },
  {
   "cell_type": "markdown",
   "metadata": {},
   "source": [
    "**Phân tích lỗi để phát hiện ra các data đã bị dán nhãn sai**"
   ]
  },
  {
   "cell_type": "code",
   "execution_count": 52,
   "metadata": {},
   "outputs": [
    {
     "name": "stdout",
     "output_type": "stream",
     "text": [
      "Số lượng bản ghi không khớp: 0\n"
     ]
    }
   ],
   "source": [
    "mismatches = []\n",
    "\n",
    "for id, review, true_label, predicted_label in zip(data['id'], X_train, y_train, y_train_pred):\n",
    "    if true_label != predicted_label:\n",
    "        if true_label != 1:\n",
    "            mismatches.append(f\"{id}, True Label: {true_label}, Predicted Label: {predicted_label}\")\n",
    "            print(f\"{id}, True Label: {true_label}, Predicted Label: {predicted_label}\")\n",
    "\n",
    "result_length = len(mismatches)\n",
    "print(f\"Số lượng bản ghi không khớp: {result_length}\")"
   ]
  },
  {
   "cell_type": "markdown",
   "metadata": {},
   "source": [
    "**Huấn luyện lại mô hình với phương pháp Crossvalidation 5 folds để đánh giá công bằng hơn sau khi gán lại nhãn**"
   ]
  },
  {
   "cell_type": "code",
   "execution_count": 53,
   "metadata": {},
   "outputs": [
    {
     "name": "stdout",
     "output_type": "stream",
     "text": [
      "Cross-validation Accuracy Scores: [0.94054734 0.94966971 0.94904058 0.94400755 0.94745123]\n",
      "Mean Accuracy: 0.946143280983151\n",
      "Standard Deviation: 0.0034180878928392316\n"
     ]
    }
   ],
   "source": [
    "cv_results = cross_val_score(SVC(C=4, gamma=2, kernel='rbf'), X_train, y_train, cv=5, scoring='accuracy', n_jobs=-1)\n",
    "\n",
    "print(f\"Cross-validation Accuracy Scores: {cv_results}\")\n",
    "print(f\"Mean Accuracy: {cv_results.mean()}\")\n",
    "print(f\"Standard Deviation: {cv_results.std()}\")"
   ]
  }
 ],
 "metadata": {
  "kernelspec": {
   "display_name": "Python (tiki)",
   "language": "python",
   "name": "tiki"
  },
  "language_info": {
   "codemirror_mode": {
    "name": "ipython",
    "version": 3
   },
   "file_extension": ".py",
   "mimetype": "text/x-python",
   "name": "python",
   "nbconvert_exporter": "python",
   "pygments_lexer": "ipython3",
   "version": "3.11.10"
  }
 },
 "nbformat": 4,
 "nbformat_minor": 2
}
