{
 "cells": [
  {
   "cell_type": "markdown",
   "metadata": {},
   "source": [
    "TIỀN XỬ LÝ DỮ LIỆU"
   ]
  },
  {
   "cell_type": "markdown",
   "metadata": {},
   "source": [
    "IMPORT THƯ VIỆN"
   ]
  },
  {
   "cell_type": "code",
   "execution_count": 8,
   "metadata": {
    "jupyter": {
     "is_executing": true
    }
   },
   "outputs": [],
   "source": [
    "import pandas as pd\n",
    "import unicodedata\n",
    "from underthesea import text_normalize, word_tokenize\n",
    "import regex as re\n",
    "import emot"
   ]
  },
  {
   "cell_type": "markdown",
   "metadata": {},
   "source": [
    "ĐỌC DỮ LIỆU"
   ]
  },
  {
   "cell_type": "code",
   "execution_count": 9,
   "metadata": {},
   "outputs": [
    {
     "data": {
      "text/html": [
       "<div>\n",
       "<style scoped>\n",
       "    .dataframe tbody tr th:only-of-type {\n",
       "        vertical-align: middle;\n",
       "    }\n",
       "\n",
       "    .dataframe tbody tr th {\n",
       "        vertical-align: top;\n",
       "    }\n",
       "\n",
       "    .dataframe thead th {\n",
       "        text-align: right;\n",
       "    }\n",
       "</style>\n",
       "<table border=\"1\" class=\"dataframe\">\n",
       "  <thead>\n",
       "    <tr style=\"text-align: right;\">\n",
       "      <th></th>\n",
       "      <th>id</th>\n",
       "      <th>title</th>\n",
       "      <th>content</th>\n",
       "      <th>thank_count</th>\n",
       "      <th>customer_id</th>\n",
       "      <th>rating</th>\n",
       "      <th>product_id</th>\n",
       "    </tr>\n",
       "  </thead>\n",
       "  <tbody>\n",
       "    <tr>\n",
       "      <th>0</th>\n",
       "      <td>19906519</td>\n",
       "      <td>Cực kì hài lòng</td>\n",
       "      <td>Sau khi phản ánh việc tác giả đặt tên sách trù...</td>\n",
       "      <td>8</td>\n",
       "      <td>13450478</td>\n",
       "      <td>5</td>\n",
       "      <td>275025208</td>\n",
       "    </tr>\n",
       "    <tr>\n",
       "      <th>1</th>\n",
       "      <td>19968834</td>\n",
       "      <td>Hài lòng</td>\n",
       "      <td>Tạm thời thấy ổn.Đọc xong sẽ  review sau.hj.Yh...</td>\n",
       "      <td>0</td>\n",
       "      <td>19821878</td>\n",
       "      <td>4</td>\n",
       "      <td>275025208</td>\n",
       "    </tr>\n",
       "    <tr>\n",
       "      <th>2</th>\n",
       "      <td>19943636</td>\n",
       "      <td>Rất không hài lòng</td>\n",
       "      <td>quyển sách với tựa đề làm hiểu lầm cái khách h...</td>\n",
       "      <td>0</td>\n",
       "      <td>14317039</td>\n",
       "      <td>1</td>\n",
       "      <td>275025208</td>\n",
       "    </tr>\n",
       "    <tr>\n",
       "      <th>3</th>\n",
       "      <td>19919040</td>\n",
       "      <td>Cực kì hài lòng</td>\n",
       "      <td>Giao hàng nhanh, đóng gói cẩn thận</td>\n",
       "      <td>0</td>\n",
       "      <td>13713637</td>\n",
       "      <td>5</td>\n",
       "      <td>275025208</td>\n",
       "    </tr>\n",
       "    <tr>\n",
       "      <th>4</th>\n",
       "      <td>19963835</td>\n",
       "      <td>Hài lòng</td>\n",
       "      <td>Tạm được, phù hợp những bạn chưa đọc nhiều sác...</td>\n",
       "      <td>0</td>\n",
       "      <td>7159313</td>\n",
       "      <td>4</td>\n",
       "      <td>275025208</td>\n",
       "    </tr>\n",
       "    <tr>\n",
       "      <th>...</th>\n",
       "      <td>...</td>\n",
       "      <td>...</td>\n",
       "      <td>...</td>\n",
       "      <td>...</td>\n",
       "      <td>...</td>\n",
       "      <td>...</td>\n",
       "      <td>...</td>\n",
       "    </tr>\n",
       "    <tr>\n",
       "      <th>26227</th>\n",
       "      <td>19939226</td>\n",
       "      <td>Cực kì hài lòng</td>\n",
       "      <td>NaN</td>\n",
       "      <td>0</td>\n",
       "      <td>13696065</td>\n",
       "      <td>5</td>\n",
       "      <td>73316970</td>\n",
       "    </tr>\n",
       "    <tr>\n",
       "      <th>26228</th>\n",
       "      <td>19931668</td>\n",
       "      <td>Cực kì hài lòng</td>\n",
       "      <td>NaN</td>\n",
       "      <td>0</td>\n",
       "      <td>29245947</td>\n",
       "      <td>5</td>\n",
       "      <td>73316970</td>\n",
       "    </tr>\n",
       "    <tr>\n",
       "      <th>26229</th>\n",
       "      <td>9198319</td>\n",
       "      <td>Cực kì hài lòng</td>\n",
       "      <td>Chất lượng sách tốt, giấy tốt, Tiki giao hàng ...</td>\n",
       "      <td>0</td>\n",
       "      <td>7562223</td>\n",
       "      <td>5</td>\n",
       "      <td>73316970</td>\n",
       "    </tr>\n",
       "    <tr>\n",
       "      <th>26230</th>\n",
       "      <td>19943620</td>\n",
       "      <td>Cực kì hài lòng</td>\n",
       "      <td>NaN</td>\n",
       "      <td>0</td>\n",
       "      <td>12028298</td>\n",
       "      <td>5</td>\n",
       "      <td>274909433</td>\n",
       "    </tr>\n",
       "    <tr>\n",
       "      <th>26231</th>\n",
       "      <td>19900164</td>\n",
       "      <td>Cực kì hài lòng</td>\n",
       "      <td>NaN</td>\n",
       "      <td>0</td>\n",
       "      <td>135809</td>\n",
       "      <td>5</td>\n",
       "      <td>274909433</td>\n",
       "    </tr>\n",
       "  </tbody>\n",
       "</table>\n",
       "<p>26232 rows × 7 columns</p>\n",
       "</div>"
      ],
      "text/plain": [
       "             id               title  \\\n",
       "0      19906519     Cực kì hài lòng   \n",
       "1      19968834            Hài lòng   \n",
       "2      19943636  Rất không hài lòng   \n",
       "3      19919040     Cực kì hài lòng   \n",
       "4      19963835            Hài lòng   \n",
       "...         ...                 ...   \n",
       "26227  19939226     Cực kì hài lòng   \n",
       "26228  19931668     Cực kì hài lòng   \n",
       "26229   9198319     Cực kì hài lòng   \n",
       "26230  19943620     Cực kì hài lòng   \n",
       "26231  19900164     Cực kì hài lòng   \n",
       "\n",
       "                                                 content  thank_count  \\\n",
       "0      Sau khi phản ánh việc tác giả đặt tên sách trù...            8   \n",
       "1      Tạm thời thấy ổn.Đọc xong sẽ  review sau.hj.Yh...            0   \n",
       "2      quyển sách với tựa đề làm hiểu lầm cái khách h...            0   \n",
       "3                     Giao hàng nhanh, đóng gói cẩn thận            0   \n",
       "4      Tạm được, phù hợp những bạn chưa đọc nhiều sác...            0   \n",
       "...                                                  ...          ...   \n",
       "26227                                                NaN            0   \n",
       "26228                                                NaN            0   \n",
       "26229  Chất lượng sách tốt, giấy tốt, Tiki giao hàng ...            0   \n",
       "26230                                                NaN            0   \n",
       "26231                                                NaN            0   \n",
       "\n",
       "       customer_id  rating  product_id  \n",
       "0         13450478       5   275025208  \n",
       "1         19821878       4   275025208  \n",
       "2         14317039       1   275025208  \n",
       "3         13713637       5   275025208  \n",
       "4          7159313       4   275025208  \n",
       "...            ...     ...         ...  \n",
       "26227     13696065       5    73316970  \n",
       "26228     29245947       5    73316970  \n",
       "26229      7562223       5    73316970  \n",
       "26230     12028298       5   274909433  \n",
       "26231       135809       5   274909433  \n",
       "\n",
       "[26232 rows x 7 columns]"
      ]
     },
     "execution_count": 9,
     "metadata": {},
     "output_type": "execute_result"
    }
   ],
   "source": [
    "df = pd.read_csv('data/review.csv')\n",
    "df"
   ]
  },
  {
   "cell_type": "markdown",
   "metadata": {},
   "source": [
    "XÓA DỮ LIỆU BỊ RỖNG"
   ]
  },
  {
   "cell_type": "markdown",
   "metadata": {},
   "source": [
    "Tính toán data rỗng theo rating"
   ]
  },
  {
   "cell_type": "code",
   "execution_count": 10,
   "metadata": {},
   "outputs": [],
   "source": [
    "def tim_data_rong(df):\n",
    "    df_isnull = df[df['content'].isnull()]\n",
    "    df_count = df_isnull['rating'].value_counts()\n",
    "    return df_count"
   ]
  },
  {
   "cell_type": "code",
   "execution_count": 11,
   "metadata": {},
   "outputs": [
    {
     "data": {
      "text/plain": [
       "rating\n",
       "5    8203\n",
       "4     579\n",
       "3       2\n",
       "1       1\n",
       "Name: count, dtype: int64"
      ]
     },
     "execution_count": 11,
     "metadata": {},
     "output_type": "execute_result"
    }
   ],
   "source": [
    "tim_data_rong(df)"
   ]
  },
  {
   "cell_type": "markdown",
   "metadata": {},
   "source": [
    "Nhận xét: Phần lớn các comment chỉ đánh giá bằng rating và không nói gì thêm nằm ở mức số 5, tức là đại đa số khách hàng hài lòng và không nói gì thêm, ta có thể bỏ quan NaN values để dữ liệu cần bằng hơn."
   ]
  },
  {
   "cell_type": "code",
   "execution_count": 12,
   "metadata": {},
   "outputs": [],
   "source": [
    "def xoa_data_rong(df):\n",
    "    df.dropna(subset=['content'], inplace=True)\n",
    "    df.reset_index(drop=True, inplace=True)\n",
    "    return df"
   ]
  },
  {
   "cell_type": "code",
   "execution_count": 13,
   "metadata": {},
   "outputs": [
    {
     "data": {
      "text/html": [
       "<div>\n",
       "<style scoped>\n",
       "    .dataframe tbody tr th:only-of-type {\n",
       "        vertical-align: middle;\n",
       "    }\n",
       "\n",
       "    .dataframe tbody tr th {\n",
       "        vertical-align: top;\n",
       "    }\n",
       "\n",
       "    .dataframe thead th {\n",
       "        text-align: right;\n",
       "    }\n",
       "</style>\n",
       "<table border=\"1\" class=\"dataframe\">\n",
       "  <thead>\n",
       "    <tr style=\"text-align: right;\">\n",
       "      <th></th>\n",
       "      <th>id</th>\n",
       "      <th>title</th>\n",
       "      <th>content</th>\n",
       "      <th>thank_count</th>\n",
       "      <th>customer_id</th>\n",
       "      <th>rating</th>\n",
       "      <th>product_id</th>\n",
       "    </tr>\n",
       "  </thead>\n",
       "  <tbody>\n",
       "    <tr>\n",
       "      <th>0</th>\n",
       "      <td>19906519</td>\n",
       "      <td>Cực kì hài lòng</td>\n",
       "      <td>Sau khi phản ánh việc tác giả đặt tên sách trù...</td>\n",
       "      <td>8</td>\n",
       "      <td>13450478</td>\n",
       "      <td>5</td>\n",
       "      <td>275025208</td>\n",
       "    </tr>\n",
       "    <tr>\n",
       "      <th>1</th>\n",
       "      <td>19968834</td>\n",
       "      <td>Hài lòng</td>\n",
       "      <td>Tạm thời thấy ổn.Đọc xong sẽ  review sau.hj.Yh...</td>\n",
       "      <td>0</td>\n",
       "      <td>19821878</td>\n",
       "      <td>4</td>\n",
       "      <td>275025208</td>\n",
       "    </tr>\n",
       "    <tr>\n",
       "      <th>2</th>\n",
       "      <td>19943636</td>\n",
       "      <td>Rất không hài lòng</td>\n",
       "      <td>quyển sách với tựa đề làm hiểu lầm cái khách h...</td>\n",
       "      <td>0</td>\n",
       "      <td>14317039</td>\n",
       "      <td>1</td>\n",
       "      <td>275025208</td>\n",
       "    </tr>\n",
       "    <tr>\n",
       "      <th>3</th>\n",
       "      <td>19919040</td>\n",
       "      <td>Cực kì hài lòng</td>\n",
       "      <td>Giao hàng nhanh, đóng gói cẩn thận</td>\n",
       "      <td>0</td>\n",
       "      <td>13713637</td>\n",
       "      <td>5</td>\n",
       "      <td>275025208</td>\n",
       "    </tr>\n",
       "    <tr>\n",
       "      <th>4</th>\n",
       "      <td>19963835</td>\n",
       "      <td>Hài lòng</td>\n",
       "      <td>Tạm được, phù hợp những bạn chưa đọc nhiều sác...</td>\n",
       "      <td>0</td>\n",
       "      <td>7159313</td>\n",
       "      <td>4</td>\n",
       "      <td>275025208</td>\n",
       "    </tr>\n",
       "    <tr>\n",
       "      <th>...</th>\n",
       "      <td>...</td>\n",
       "      <td>...</td>\n",
       "      <td>...</td>\n",
       "      <td>...</td>\n",
       "      <td>...</td>\n",
       "      <td>...</td>\n",
       "      <td>...</td>\n",
       "    </tr>\n",
       "    <tr>\n",
       "      <th>17442</th>\n",
       "      <td>17345116</td>\n",
       "      <td>Cực kì hài lòng</td>\n",
       "      <td>Giấy vàng không bị lóa mắt\\r\\nMực in đều\\r\\nĐó...</td>\n",
       "      <td>0</td>\n",
       "      <td>16638755</td>\n",
       "      <td>5</td>\n",
       "      <td>73316970</td>\n",
       "    </tr>\n",
       "    <tr>\n",
       "      <th>17443</th>\n",
       "      <td>8770862</td>\n",
       "      <td>Cực kì hài lòng</td>\n",
       "      <td>SÁCH HAY NÊN ĐỌC\\nCuốn sách làm thay đổi tư du...</td>\n",
       "      <td>1</td>\n",
       "      <td>5330292</td>\n",
       "      <td>5</td>\n",
       "      <td>73316970</td>\n",
       "    </tr>\n",
       "    <tr>\n",
       "      <th>17444</th>\n",
       "      <td>17586361</td>\n",
       "      <td>Cực kì hài lòng</td>\n",
       "      <td>Giao hàng nhanh,shipper thân thiện và nhiệt tì...</td>\n",
       "      <td>0</td>\n",
       "      <td>12472234</td>\n",
       "      <td>5</td>\n",
       "      <td>73316970</td>\n",
       "    </tr>\n",
       "    <tr>\n",
       "      <th>17445</th>\n",
       "      <td>14238907</td>\n",
       "      <td>Cực kì hài lòng</td>\n",
       "      <td>Nghe về tác giả nhiều rồi nên hôm nay mua mấy ...</td>\n",
       "      <td>0</td>\n",
       "      <td>1110677</td>\n",
       "      <td>5</td>\n",
       "      <td>73316970</td>\n",
       "    </tr>\n",
       "    <tr>\n",
       "      <th>17446</th>\n",
       "      <td>9198319</td>\n",
       "      <td>Cực kì hài lòng</td>\n",
       "      <td>Chất lượng sách tốt, giấy tốt, Tiki giao hàng ...</td>\n",
       "      <td>0</td>\n",
       "      <td>7562223</td>\n",
       "      <td>5</td>\n",
       "      <td>73316970</td>\n",
       "    </tr>\n",
       "  </tbody>\n",
       "</table>\n",
       "<p>17447 rows × 7 columns</p>\n",
       "</div>"
      ],
      "text/plain": [
       "             id               title  \\\n",
       "0      19906519     Cực kì hài lòng   \n",
       "1      19968834            Hài lòng   \n",
       "2      19943636  Rất không hài lòng   \n",
       "3      19919040     Cực kì hài lòng   \n",
       "4      19963835            Hài lòng   \n",
       "...         ...                 ...   \n",
       "17442  17345116     Cực kì hài lòng   \n",
       "17443   8770862     Cực kì hài lòng   \n",
       "17444  17586361     Cực kì hài lòng   \n",
       "17445  14238907     Cực kì hài lòng   \n",
       "17446   9198319     Cực kì hài lòng   \n",
       "\n",
       "                                                 content  thank_count  \\\n",
       "0      Sau khi phản ánh việc tác giả đặt tên sách trù...            8   \n",
       "1      Tạm thời thấy ổn.Đọc xong sẽ  review sau.hj.Yh...            0   \n",
       "2      quyển sách với tựa đề làm hiểu lầm cái khách h...            0   \n",
       "3                     Giao hàng nhanh, đóng gói cẩn thận            0   \n",
       "4      Tạm được, phù hợp những bạn chưa đọc nhiều sác...            0   \n",
       "...                                                  ...          ...   \n",
       "17442  Giấy vàng không bị lóa mắt\\r\\nMực in đều\\r\\nĐó...            0   \n",
       "17443  SÁCH HAY NÊN ĐỌC\\nCuốn sách làm thay đổi tư du...            1   \n",
       "17444  Giao hàng nhanh,shipper thân thiện và nhiệt tì...            0   \n",
       "17445  Nghe về tác giả nhiều rồi nên hôm nay mua mấy ...            0   \n",
       "17446  Chất lượng sách tốt, giấy tốt, Tiki giao hàng ...            0   \n",
       "\n",
       "       customer_id  rating  product_id  \n",
       "0         13450478       5   275025208  \n",
       "1         19821878       4   275025208  \n",
       "2         14317039       1   275025208  \n",
       "3         13713637       5   275025208  \n",
       "4          7159313       4   275025208  \n",
       "...            ...     ...         ...  \n",
       "17442     16638755       5    73316970  \n",
       "17443      5330292       5    73316970  \n",
       "17444     12472234       5    73316970  \n",
       "17445      1110677       5    73316970  \n",
       "17446      7562223       5    73316970  \n",
       "\n",
       "[17447 rows x 7 columns]"
      ]
     },
     "execution_count": 13,
     "metadata": {},
     "output_type": "execute_result"
    }
   ],
   "source": [
    "xoa_data_rong(df)"
   ]
  },
  {
   "cell_type": "markdown",
   "metadata": {},
   "source": [
    "XÓA DỮ LIỆU TRÙNG LẶP"
   ]
  },
  {
   "cell_type": "code",
   "execution_count": 14,
   "metadata": {},
   "outputs": [],
   "source": [
    "def xoa_dup(df):\n",
    "    df.drop_duplicates(subset=['content'],inplace=True)\n",
    "    df.reset_index(drop=True, inplace=True)\n",
    "    return df"
   ]
  },
  {
   "cell_type": "code",
   "execution_count": 15,
   "metadata": {},
   "outputs": [
    {
     "data": {
      "text/html": [
       "<div>\n",
       "<style scoped>\n",
       "    .dataframe tbody tr th:only-of-type {\n",
       "        vertical-align: middle;\n",
       "    }\n",
       "\n",
       "    .dataframe tbody tr th {\n",
       "        vertical-align: top;\n",
       "    }\n",
       "\n",
       "    .dataframe thead th {\n",
       "        text-align: right;\n",
       "    }\n",
       "</style>\n",
       "<table border=\"1\" class=\"dataframe\">\n",
       "  <thead>\n",
       "    <tr style=\"text-align: right;\">\n",
       "      <th></th>\n",
       "      <th>id</th>\n",
       "      <th>title</th>\n",
       "      <th>content</th>\n",
       "      <th>thank_count</th>\n",
       "      <th>customer_id</th>\n",
       "      <th>rating</th>\n",
       "      <th>product_id</th>\n",
       "    </tr>\n",
       "  </thead>\n",
       "  <tbody>\n",
       "    <tr>\n",
       "      <th>0</th>\n",
       "      <td>19906519</td>\n",
       "      <td>Cực kì hài lòng</td>\n",
       "      <td>Sau khi phản ánh việc tác giả đặt tên sách trù...</td>\n",
       "      <td>8</td>\n",
       "      <td>13450478</td>\n",
       "      <td>5</td>\n",
       "      <td>275025208</td>\n",
       "    </tr>\n",
       "    <tr>\n",
       "      <th>1</th>\n",
       "      <td>19968834</td>\n",
       "      <td>Hài lòng</td>\n",
       "      <td>Tạm thời thấy ổn.Đọc xong sẽ  review sau.hj.Yh...</td>\n",
       "      <td>0</td>\n",
       "      <td>19821878</td>\n",
       "      <td>4</td>\n",
       "      <td>275025208</td>\n",
       "    </tr>\n",
       "    <tr>\n",
       "      <th>2</th>\n",
       "      <td>19943636</td>\n",
       "      <td>Rất không hài lòng</td>\n",
       "      <td>quyển sách với tựa đề làm hiểu lầm cái khách h...</td>\n",
       "      <td>0</td>\n",
       "      <td>14317039</td>\n",
       "      <td>1</td>\n",
       "      <td>275025208</td>\n",
       "    </tr>\n",
       "    <tr>\n",
       "      <th>3</th>\n",
       "      <td>19919040</td>\n",
       "      <td>Cực kì hài lòng</td>\n",
       "      <td>Giao hàng nhanh, đóng gói cẩn thận</td>\n",
       "      <td>0</td>\n",
       "      <td>13713637</td>\n",
       "      <td>5</td>\n",
       "      <td>275025208</td>\n",
       "    </tr>\n",
       "    <tr>\n",
       "      <th>4</th>\n",
       "      <td>19963835</td>\n",
       "      <td>Hài lòng</td>\n",
       "      <td>Tạm được, phù hợp những bạn chưa đọc nhiều sác...</td>\n",
       "      <td>0</td>\n",
       "      <td>7159313</td>\n",
       "      <td>4</td>\n",
       "      <td>275025208</td>\n",
       "    </tr>\n",
       "    <tr>\n",
       "      <th>...</th>\n",
       "      <td>...</td>\n",
       "      <td>...</td>\n",
       "      <td>...</td>\n",
       "      <td>...</td>\n",
       "      <td>...</td>\n",
       "      <td>...</td>\n",
       "      <td>...</td>\n",
       "    </tr>\n",
       "    <tr>\n",
       "      <th>16079</th>\n",
       "      <td>17345116</td>\n",
       "      <td>Cực kì hài lòng</td>\n",
       "      <td>Giấy vàng không bị lóa mắt\\r\\nMực in đều\\r\\nĐó...</td>\n",
       "      <td>0</td>\n",
       "      <td>16638755</td>\n",
       "      <td>5</td>\n",
       "      <td>73316970</td>\n",
       "    </tr>\n",
       "    <tr>\n",
       "      <th>16080</th>\n",
       "      <td>8770862</td>\n",
       "      <td>Cực kì hài lòng</td>\n",
       "      <td>SÁCH HAY NÊN ĐỌC\\nCuốn sách làm thay đổi tư du...</td>\n",
       "      <td>1</td>\n",
       "      <td>5330292</td>\n",
       "      <td>5</td>\n",
       "      <td>73316970</td>\n",
       "    </tr>\n",
       "    <tr>\n",
       "      <th>16081</th>\n",
       "      <td>17586361</td>\n",
       "      <td>Cực kì hài lòng</td>\n",
       "      <td>Giao hàng nhanh,shipper thân thiện và nhiệt tì...</td>\n",
       "      <td>0</td>\n",
       "      <td>12472234</td>\n",
       "      <td>5</td>\n",
       "      <td>73316970</td>\n",
       "    </tr>\n",
       "    <tr>\n",
       "      <th>16082</th>\n",
       "      <td>14238907</td>\n",
       "      <td>Cực kì hài lòng</td>\n",
       "      <td>Nghe về tác giả nhiều rồi nên hôm nay mua mấy ...</td>\n",
       "      <td>0</td>\n",
       "      <td>1110677</td>\n",
       "      <td>5</td>\n",
       "      <td>73316970</td>\n",
       "    </tr>\n",
       "    <tr>\n",
       "      <th>16083</th>\n",
       "      <td>9198319</td>\n",
       "      <td>Cực kì hài lòng</td>\n",
       "      <td>Chất lượng sách tốt, giấy tốt, Tiki giao hàng ...</td>\n",
       "      <td>0</td>\n",
       "      <td>7562223</td>\n",
       "      <td>5</td>\n",
       "      <td>73316970</td>\n",
       "    </tr>\n",
       "  </tbody>\n",
       "</table>\n",
       "<p>16084 rows × 7 columns</p>\n",
       "</div>"
      ],
      "text/plain": [
       "             id               title  \\\n",
       "0      19906519     Cực kì hài lòng   \n",
       "1      19968834            Hài lòng   \n",
       "2      19943636  Rất không hài lòng   \n",
       "3      19919040     Cực kì hài lòng   \n",
       "4      19963835            Hài lòng   \n",
       "...         ...                 ...   \n",
       "16079  17345116     Cực kì hài lòng   \n",
       "16080   8770862     Cực kì hài lòng   \n",
       "16081  17586361     Cực kì hài lòng   \n",
       "16082  14238907     Cực kì hài lòng   \n",
       "16083   9198319     Cực kì hài lòng   \n",
       "\n",
       "                                                 content  thank_count  \\\n",
       "0      Sau khi phản ánh việc tác giả đặt tên sách trù...            8   \n",
       "1      Tạm thời thấy ổn.Đọc xong sẽ  review sau.hj.Yh...            0   \n",
       "2      quyển sách với tựa đề làm hiểu lầm cái khách h...            0   \n",
       "3                     Giao hàng nhanh, đóng gói cẩn thận            0   \n",
       "4      Tạm được, phù hợp những bạn chưa đọc nhiều sác...            0   \n",
       "...                                                  ...          ...   \n",
       "16079  Giấy vàng không bị lóa mắt\\r\\nMực in đều\\r\\nĐó...            0   \n",
       "16080  SÁCH HAY NÊN ĐỌC\\nCuốn sách làm thay đổi tư du...            1   \n",
       "16081  Giao hàng nhanh,shipper thân thiện và nhiệt tì...            0   \n",
       "16082  Nghe về tác giả nhiều rồi nên hôm nay mua mấy ...            0   \n",
       "16083  Chất lượng sách tốt, giấy tốt, Tiki giao hàng ...            0   \n",
       "\n",
       "       customer_id  rating  product_id  \n",
       "0         13450478       5   275025208  \n",
       "1         19821878       4   275025208  \n",
       "2         14317039       1   275025208  \n",
       "3         13713637       5   275025208  \n",
       "4          7159313       4   275025208  \n",
       "...            ...     ...         ...  \n",
       "16079     16638755       5    73316970  \n",
       "16080      5330292       5    73316970  \n",
       "16081     12472234       5    73316970  \n",
       "16082      1110677       5    73316970  \n",
       "16083      7562223       5    73316970  \n",
       "\n",
       "[16084 rows x 7 columns]"
      ]
     },
     "execution_count": 15,
     "metadata": {},
     "output_type": "execute_result"
    }
   ],
   "source": [
    "xoa_dup(df)"
   ]
  },
  {
   "cell_type": "markdown",
   "metadata": {},
   "source": [
    "Dữ liệu sau khi bị xóa trùng lặp và xóa rỗng thì còn 16084 dòng"
   ]
  },
  {
   "cell_type": "markdown",
   "metadata": {},
   "source": [
    "XÓA EMOJI VÀ EMOTICON"
   ]
  },
  {
   "cell_type": "code",
   "execution_count": 16,
   "metadata": {},
   "outputs": [],
   "source": [
    "#Khởi tạo đối tượng emot\n",
    "emot_obj = emot.core.emot()"
   ]
  },
  {
   "cell_type": "code",
   "execution_count": 17,
   "metadata": {},
   "outputs": [],
   "source": [
    "def xoa_emoji_va_emoticon(text):\n",
    "    emojis = emot_obj.emoji(text)\n",
    "    emoticons = emot_obj.emoticons(text)\n",
    "    for i in emojis['value'] + emoticons['value']:\n",
    "        for punc in ['(', ')', '.', '+', '*']:\n",
    "            i = i.replace(punc, '\\\\' + punc)\n",
    "        pattern = r'\\s' + i + r'\\s'\n",
    "        text = re.sub(pattern, ' ', text)\n",
    "    return text"
   ]
  },
  {
   "cell_type": "markdown",
   "metadata": {},
   "source": [
    "CHUYỂN TEENCODE THÀNH TỪ ĐÚNG"
   ]
  },
  {
   "cell_type": "markdown",
   "metadata": {},
   "source": [
    "Đọc file teencode"
   ]
  },
  {
   "cell_type": "code",
   "execution_count": 18,
   "metadata": {},
   "outputs": [],
   "source": [
    "with open('files/teencode.txt', 'r', encoding='utf8') as file:\n",
    "    teencode_list = file.read().split('\\n')\n",
    "    teencode_dict = {}\n",
    "    for line in teencode_list:\n",
    "        key, value = line.split('\\t')\n",
    "        teencode_dict[key] = str(value)\n",
    "file.close()"
   ]
  },
  {
   "cell_type": "markdown",
   "metadata": {},
   "source": [
    "Chuyển teencode thành từ đúng"
   ]
  },
  {
   "cell_type": "code",
   "execution_count": 19,
   "metadata": {},
   "outputs": [],
   "source": [
    "def chuyen_teencode(text):\n",
    "    text = ' '.join(teencode_dict[word] if word in teencode_dict else word for word in text.split())\n",
    "    return text"
   ]
  },
  {
   "cell_type": "markdown",
   "metadata": {},
   "source": [
    "XÓA CÁC TỪ KHÔNG ĐÚNG TRONG TIẾNG VIỆT"
   ]
  },
  {
   "cell_type": "markdown",
   "metadata": {},
   "source": [
    "Đọc file có sẵn chứa các từ sai"
   ]
  },
  {
   "cell_type": "code",
   "execution_count": 20,
   "metadata": {},
   "outputs": [],
   "source": [
    "with open('files/wrong-word.txt', 'r', encoding='utf8') as file:\n",
    "    wrongword_list = file.read().split('\\n')\n",
    "file.close()"
   ]
  },
  {
   "cell_type": "markdown",
   "metadata": {},
   "source": [
    "Xóa từ bị sai"
   ]
  },
  {
   "cell_type": "code",
   "execution_count": 21,
   "metadata": {},
   "outputs": [],
   "source": [
    "def xoa_wrongword(text):\n",
    "    text = ' '.join('' if word in wrongword_list else word for word in text.split())\n",
    "    return text"
   ]
  },
  {
   "cell_type": "markdown",
   "metadata": {},
   "source": [
    "CHUẨN HÓA DẤU CÂU VÀ LOẠI BỎ CÁC THÀNH PHẦN KHÔNG CẦN THIẾT"
   ]
  },
  {
   "cell_type": "code",
   "execution_count": 22,
   "metadata": {},
   "outputs": [],
   "source": [
    "def xoa_dau_cau_va_so(text):\n",
    "    pattern = r'(?i)\\b[a-záàảãạăắằẳẵặâấầẩẫậéèẻẽẹêếềểễệóòỏõọôốồổỗộơớờởỡợíìỉĩịúùủũụưứừửữựýỳỷỹỵđ]+\\b'\n",
    "    text = ' '.join(re.findall(pattern, text))\n",
    "    text = text.lower()\n",
    "    text = re.sub(r'\\s+', ' ', text).strip()  \n",
    "    return text"
   ]
  },
  {
   "cell_type": "markdown",
   "metadata": {},
   "source": [
    "CHUẨN HÓA UNICODE TIẾNG VIỆT"
   ]
  },
  {
   "cell_type": "markdown",
   "metadata": {},
   "source": [
    "Có 2 loaị Unicode được sử dụng phổ biến là Unicode tổ hợp và Unicode dựng sẵn. Trong bài này, tôi chọn chuẩn hóa về Unicode dựng sẵn thì loại này được sử dụng phổ biến hơn."
   ]
  },
  {
   "cell_type": "code",
   "execution_count": 23,
   "metadata": {},
   "outputs": [],
   "source": [
    "def loaddicchar():\n",
    "    uniChars = \"àáảãạâầấẩẫậăằắẳẵặèéẻẽẹêềếểễệđìíỉĩịòóỏõọôồốổỗộơờớởỡợùúủũụưừứửữựỳýỷỹỵÀÁẢÃẠÂẦẤẨẪẬĂẰẮẲẴẶÈÉẺẼẸÊỀẾỂỄỆĐÌÍỈĨỊÒÓỎÕỌÔỒỐỔỖỘƠỜỚỞỠỢÙÚỦŨỤƯỪỨỬỮỰỲÝỶỸỴÂĂĐÔƠƯ\"\n",
    "    unsignChars = \"aaaaaaaaaaaaaaaaaeeeeeeeeeeediiiiiooooooooooooooooouuuuuuuuuuuyyyyyAAAAAAAAAAAAAAAAAEEEEEEEEEEEDIIIOOOOOOOOOOOOOOOOOOOUUUUUUUUUUUYYYYYAADOOU\"\n",
    "    dic = {}\n",
    "    char1252 = 'à|á|ả|ã|ạ|ầ|ấ|ẩ|ẫ|ậ|ằ|ắ|ẳ|ẵ|ặ|è|é|ẻ|ẽ|ẹ|ề|ế|ể|ễ|ệ|ì|í|ỉ|ĩ|ị|ò|ó|ỏ|õ|ọ|ồ|ố|ổ|ỗ|ộ|ờ|ớ|ở|ỡ|ợ|ù|ú|ủ|ũ|ụ|ừ|ứ|ử|ữ|ự|ỳ|ý|ỷ|ỹ|ỵ|À|Á|Ả|Ã|Ạ|Ầ|Ấ|Ẩ|Ẫ|Ậ|Ằ|Ắ|Ẳ|Ẵ|Ặ|È|É|Ẻ|Ẽ|Ẹ|Ề|Ế|Ể|Ễ|Ệ|Ì|Í|Ỉ|Ĩ|Ị|Ò|Ó|Ỏ|Õ|Ọ|Ồ|Ố|Ổ|Ỗ|Ộ|Ờ|Ớ|Ở|Ỡ|Ợ|Ù|Ú|Ủ|Ũ|Ụ|Ừ|Ứ|Ử|Ữ|Ự|Ỳ|Ý|Ỷ|Ỹ|Ỵ'.split('|')\n",
    "    charutf8 = \"à|á|ả|ã|ạ|ầ|ấ|ẩ|ẫ|ậ|ằ|ắ|ẳ|ẵ|ặ|è|é|ẻ|ẽ|ẹ|ề|ế|ể|ễ|ệ|ì|í|ỉ|ĩ|ị|ò|ó|ỏ|õ|ọ|ồ|ố|ổ|ỗ|ộ|ờ|ớ|ở|ỡ|ợ|ù|ú|ủ|ũ|ụ|ừ|ứ|ử|ữ|ự|ỳ|ý|ỷ|ỹ|ỵ|À|Á|Ả|Ã|Ạ|Ầ|Ấ|Ẩ|Ẫ|Ậ|Ằ|Ắ|Ẳ|Ẵ|Ặ|È|É|Ẻ|Ẽ|Ẹ|Ề|Ế|Ể|Ễ|Ệ|Ì|Í|Ỉ|Ĩ|Ị|Ò|Ó|Ỏ|Õ|Ọ|Ồ|Ố|Ổ|Ỗ|Ộ|Ờ|Ớ|Ở|Ỡ|Ợ|Ù|Ú|Ủ|Ũ|Ụ|Ừ|Ứ|Ử|Ữ|Ự|Ỳ|Ý|Ỷ|Ỹ|Ỵ\".split('|')\n",
    "    for i in range(len(char1252)):\n",
    "        dic[char1252[i]] = charutf8[i]\n",
    "    return dic\n",
    "         \n",
    "def chuyen_unicode(text):\n",
    "    dicchar = loaddicchar()\n",
    "    return re.sub(\n",
    "        r'à|á|ả|ã|ạ|ầ|ấ|ẩ|ẫ|ậ|ằ|ắ|ẳ|ẵ|ặ|è|é|ẻ|ẽ|ẹ|ề|ế|ể|ễ|ệ|ì|í|ỉ|ĩ|ị|ò|ó|ỏ|õ|ọ|ồ|ố|ổ|ỗ|ộ|ờ|ớ|ở|ỡ|ợ|ù|ú|ủ|ũ|ụ|ừ|ứ|ử|ữ|ự|ỳ|ý|ỷ|ỹ|ỵ|À|Á|Ả|Ã|Ạ|Ầ|Ấ|Ẩ|Ẫ|Ậ|Ằ|Ắ|Ẳ|Ẵ|Ặ|È|É|Ẻ|Ẽ|Ẹ|Ề|Ế|Ể|Ễ|Ệ|Ì|Í|Ỉ|Ĩ|Ị|Ò|Ó|Ỏ|Õ|Ọ|Ồ|Ố|Ổ|Ỗ|Ộ|Ờ|Ớ|Ở|Ỡ|Ợ|Ù|Ú|Ủ|Ũ|Ụ|Ừ|Ứ|Ử|Ữ|Ự|Ỳ|Ý|Ỷ|Ỹ|Ỵ',\n",
    "        lambda x: dicchar[x.group()], text)"
   ]
  },
  {
   "cell_type": "markdown",
   "metadata": {},
   "source": [
    "CHUẨN HÓA DẤU CÂU TRONG TIẾNG VIỆT"
   ]
  },
  {
   "cell_type": "markdown",
   "metadata": {},
   "source": [
    "Có 2 kiểu gõ dấu ở Tiếng Việt, ví dụ như là : òa hoặc oà (ta gọi lần lượt là chuẩn 1 và 2). Mặc dù kiểu gõ chữ sau ít phổ biến hơn tuy nhiên vẫn cần phải chuẩn hóa tránh việc một số văn bản vẫn sử dụng kiểu gõ dấu thứ 2."
   ]
  },
  {
   "cell_type": "code",
   "execution_count": 24,
   "metadata": {},
   "outputs": [],
   "source": [
    "def chuan_hoa_dau_tieng_viet(text):\n",
    "    text = text_normalize(text)\n",
    "    return text"
   ]
  },
  {
   "cell_type": "markdown",
   "metadata": {},
   "source": [
    "TÁCH TỪ"
   ]
  },
  {
   "cell_type": "code",
   "execution_count": 25,
   "metadata": {},
   "outputs": [],
   "source": [
    "def tach_tu_tieng_viet(text):\n",
    "    text = word_tokenize(text, format=\"text\")\n",
    "    return text"
   ]
  },
  {
   "cell_type": "markdown",
   "metadata": {},
   "source": [
    "XÓA STOPWORDS"
   ]
  },
  {
   "cell_type": "markdown",
   "metadata": {},
   "source": [
    "Đọc file chứa các từ stopword trong Tiếng Việt"
   ]
  },
  {
   "cell_type": "code",
   "execution_count": 26,
   "metadata": {},
   "outputs": [],
   "source": [
    "with open('files/vietnamese-stopwords.txt', 'r', encoding='utf8') as file:\n",
    "    stopword_list = file.read().split('\\n')\n",
    "file.close()"
   ]
  },
  {
   "cell_type": "markdown",
   "metadata": {},
   "source": [
    "Xóa stopword"
   ]
  },
  {
   "cell_type": "code",
   "execution_count": 27,
   "metadata": {},
   "outputs": [],
   "source": [
    "def xoa_stopword(text):\n",
    "    text = ' '.join('' if word in stopword_list else word for word in text.split())\n",
    "    text = re.sub(r'\\s+', ' ', text).strip()\n",
    "    return text"
   ]
  },
  {
   "cell_type": "markdown",
   "metadata": {},
   "source": [
    "TIỀN XỬ LÝ DỮ LIỆU"
   ]
  },
  {
   "cell_type": "code",
   "execution_count": 28,
   "metadata": {},
   "outputs": [],
   "source": [
    "def tien_xu_li(text):\n",
    "    text = xoa_emoji_va_emoticon(text)\n",
    "    text = chuyen_teencode(text)\n",
    "    text = xoa_wrongword(text)\n",
    "    text = xoa_dau_cau_va_so(text)\n",
    "    text = chuyen_unicode(text)\n",
    "    text = chuan_hoa_dau_tieng_viet(text)\n",
    "    text = tach_tu_tieng_viet(text)\n",
    "    text = xoa_stopword(text)\n",
    "    return text"
   ]
  },
  {
   "cell_type": "code",
   "execution_count": 29,
   "metadata": {},
   "outputs": [],
   "source": [
    "text_list = df['content'].values.tolist()\n",
    "for text in text_list:\n",
    "    processed_text = tien_xu_li(text)"
   ]
  },
  {
   "cell_type": "code",
   "execution_count": 30,
   "metadata": {},
   "outputs": [
    {
     "data": {
      "text/plain": [
       "(16084, 8)"
      ]
     },
     "execution_count": 30,
     "metadata": {},
     "output_type": "execute_result"
    }
   ],
   "source": [
    "df['clean_content'] = df['content'].apply(tien_xu_li)\n",
    "df.shape"
   ]
  },
  {
   "cell_type": "markdown",
   "metadata": {},
   "source": [
    "XÓA DATA RỖNG VÀ LƯU DỮ LIỆU ĐÃ XỬ LÝ VÀO FILE CSV"
   ]
  },
  {
   "cell_type": "markdown",
   "metadata": {},
   "source": [
    "Có những đánh giá có nội dung trùng lặp nhau do khách hàng mua sách theo combo, đánh giá theo đơn hàng nên sẽ có tình trạng cùng 1 content nhưng lại có 2 review id khác nhau."
   ]
  },
  {
   "cell_type": "code",
   "execution_count": 31,
   "metadata": {},
   "outputs": [],
   "source": [
    "def luu_data(df):   \n",
    "    df.dropna(subset= ['clean_content'], inplace=True)\n",
    "    df.drop_duplicates(subset= ['clean_content'], inplace=True)\n",
    "    df.reset_index(drop=True,  inplace=True)\n",
    "    df.to_csv('data/clean_review.csv',index=False, encoding='utf8')\n",
    "    return df"
   ]
  },
  {
   "cell_type": "code",
   "execution_count": 32,
   "metadata": {},
   "outputs": [
    {
     "data": {
      "text/html": [
       "<div>\n",
       "<style scoped>\n",
       "    .dataframe tbody tr th:only-of-type {\n",
       "        vertical-align: middle;\n",
       "    }\n",
       "\n",
       "    .dataframe tbody tr th {\n",
       "        vertical-align: top;\n",
       "    }\n",
       "\n",
       "    .dataframe thead th {\n",
       "        text-align: right;\n",
       "    }\n",
       "</style>\n",
       "<table border=\"1\" class=\"dataframe\">\n",
       "  <thead>\n",
       "    <tr style=\"text-align: right;\">\n",
       "      <th></th>\n",
       "      <th>id</th>\n",
       "      <th>title</th>\n",
       "      <th>content</th>\n",
       "      <th>thank_count</th>\n",
       "      <th>customer_id</th>\n",
       "      <th>rating</th>\n",
       "      <th>product_id</th>\n",
       "      <th>clean_content</th>\n",
       "    </tr>\n",
       "  </thead>\n",
       "  <tbody>\n",
       "    <tr>\n",
       "      <th>0</th>\n",
       "      <td>19906519</td>\n",
       "      <td>Cực kì hài lòng</td>\n",
       "      <td>Sau khi phản ánh việc tác giả đặt tên sách trù...</td>\n",
       "      <td>8</td>\n",
       "      <td>13450478</td>\n",
       "      <td>5</td>\n",
       "      <td>275025208</td>\n",
       "      <td>phản_ánh tác_giả sách_trùng sách nước_ngoài nh...</td>\n",
       "    </tr>\n",
       "    <tr>\n",
       "      <th>1</th>\n",
       "      <td>19968834</td>\n",
       "      <td>Hài lòng</td>\n",
       "      <td>Tạm thời thấy ổn.Đọc xong sẽ  review sau.hj.Yh...</td>\n",
       "      <td>0</td>\n",
       "      <td>19821878</td>\n",
       "      <td>4</td>\n",
       "      <td>275025208</td>\n",
       "      <td>tạm_thời ổn đọc review hj yhanks</td>\n",
       "    </tr>\n",
       "    <tr>\n",
       "      <th>2</th>\n",
       "      <td>19943636</td>\n",
       "      <td>Rất không hài lòng</td>\n",
       "      <td>quyển sách với tựa đề làm hiểu lầm cái khách h...</td>\n",
       "      <td>0</td>\n",
       "      <td>14317039</td>\n",
       "      <td>1</td>\n",
       "      <td>275025208</td>\n",
       "      <td>quyển sách tựa_đề lầm khách_hàng viết không đủ...</td>\n",
       "    </tr>\n",
       "    <tr>\n",
       "      <th>3</th>\n",
       "      <td>19919040</td>\n",
       "      <td>Cực kì hài lòng</td>\n",
       "      <td>Giao hàng nhanh, đóng gói cẩn thận</td>\n",
       "      <td>0</td>\n",
       "      <td>13713637</td>\n",
       "      <td>5</td>\n",
       "      <td>275025208</td>\n",
       "      <td>giao hàng đóng_gói cẩn_thận</td>\n",
       "    </tr>\n",
       "    <tr>\n",
       "      <th>4</th>\n",
       "      <td>19963835</td>\n",
       "      <td>Hài lòng</td>\n",
       "      <td>Tạm được, phù hợp những bạn chưa đọc nhiều sác...</td>\n",
       "      <td>0</td>\n",
       "      <td>7159313</td>\n",
       "      <td>4</td>\n",
       "      <td>275025208</td>\n",
       "      <td>tạm đọc sách tác_giả nội_sưu_tầm trùng_lặp</td>\n",
       "    </tr>\n",
       "    <tr>\n",
       "      <th>...</th>\n",
       "      <td>...</td>\n",
       "      <td>...</td>\n",
       "      <td>...</td>\n",
       "      <td>...</td>\n",
       "      <td>...</td>\n",
       "      <td>...</td>\n",
       "      <td>...</td>\n",
       "      <td>...</td>\n",
       "    </tr>\n",
       "    <tr>\n",
       "      <th>15398</th>\n",
       "      <td>17345116</td>\n",
       "      <td>Cực kì hài lòng</td>\n",
       "      <td>Giấy vàng không bị lóa mắt\\r\\nMực in đều\\r\\nĐó...</td>\n",
       "      <td>0</td>\n",
       "      <td>16638755</td>\n",
       "      <td>5</td>\n",
       "      <td>73316970</td>\n",
       "      <td>giấy vàng không lóa mắt mực đóng_gói giao hàng...</td>\n",
       "    </tr>\n",
       "    <tr>\n",
       "      <th>15399</th>\n",
       "      <td>8770862</td>\n",
       "      <td>Cực kì hài lòng</td>\n",
       "      <td>SÁCH HAY NÊN ĐỌC\\nCuốn sách làm thay đổi tư du...</td>\n",
       "      <td>1</td>\n",
       "      <td>5330292</td>\n",
       "      <td>5</td>\n",
       "      <td>73316970</td>\n",
       "      <td>sách đọc sách đổi_tư phương_pháp giáo_dục trẻ ...</td>\n",
       "    </tr>\n",
       "    <tr>\n",
       "      <th>15400</th>\n",
       "      <td>17586361</td>\n",
       "      <td>Cực kì hài lòng</td>\n",
       "      <td>Giao hàng nhanh,shipper thân thiện và nhiệt tì...</td>\n",
       "      <td>0</td>\n",
       "      <td>12472234</td>\n",
       "      <td>5</td>\n",
       "      <td>73316970</td>\n",
       "      <td>giao hàng shipper thân_thiện nhiệt_tình sách c...</td>\n",
       "    </tr>\n",
       "    <tr>\n",
       "      <th>15401</th>\n",
       "      <td>14238907</td>\n",
       "      <td>Cực kì hài lòng</td>\n",
       "      <td>Nghe về tác giả nhiều rồi nên hôm nay mua mấy ...</td>\n",
       "      <td>0</td>\n",
       "      <td>1110677</td>\n",
       "      <td>5</td>\n",
       "      <td>73316970</td>\n",
       "      <td>tác_giả hôm mấy đọc thử tiki hàng chất_lượng</td>\n",
       "    </tr>\n",
       "    <tr>\n",
       "      <th>15402</th>\n",
       "      <td>9198319</td>\n",
       "      <td>Cực kì hài lòng</td>\n",
       "      <td>Chất lượng sách tốt, giấy tốt, Tiki giao hàng ...</td>\n",
       "      <td>0</td>\n",
       "      <td>7562223</td>\n",
       "      <td>5</td>\n",
       "      <td>73316970</td>\n",
       "      <td>chất_lượng sách tốt giấy tốt tiki hàng hôm hôm...</td>\n",
       "    </tr>\n",
       "  </tbody>\n",
       "</table>\n",
       "<p>15403 rows × 8 columns</p>\n",
       "</div>"
      ],
      "text/plain": [
       "             id               title  \\\n",
       "0      19906519     Cực kì hài lòng   \n",
       "1      19968834            Hài lòng   \n",
       "2      19943636  Rất không hài lòng   \n",
       "3      19919040     Cực kì hài lòng   \n",
       "4      19963835            Hài lòng   \n",
       "...         ...                 ...   \n",
       "15398  17345116     Cực kì hài lòng   \n",
       "15399   8770862     Cực kì hài lòng   \n",
       "15400  17586361     Cực kì hài lòng   \n",
       "15401  14238907     Cực kì hài lòng   \n",
       "15402   9198319     Cực kì hài lòng   \n",
       "\n",
       "                                                 content  thank_count  \\\n",
       "0      Sau khi phản ánh việc tác giả đặt tên sách trù...            8   \n",
       "1      Tạm thời thấy ổn.Đọc xong sẽ  review sau.hj.Yh...            0   \n",
       "2      quyển sách với tựa đề làm hiểu lầm cái khách h...            0   \n",
       "3                     Giao hàng nhanh, đóng gói cẩn thận            0   \n",
       "4      Tạm được, phù hợp những bạn chưa đọc nhiều sác...            0   \n",
       "...                                                  ...          ...   \n",
       "15398  Giấy vàng không bị lóa mắt\\r\\nMực in đều\\r\\nĐó...            0   \n",
       "15399  SÁCH HAY NÊN ĐỌC\\nCuốn sách làm thay đổi tư du...            1   \n",
       "15400  Giao hàng nhanh,shipper thân thiện và nhiệt tì...            0   \n",
       "15401  Nghe về tác giả nhiều rồi nên hôm nay mua mấy ...            0   \n",
       "15402  Chất lượng sách tốt, giấy tốt, Tiki giao hàng ...            0   \n",
       "\n",
       "       customer_id  rating  product_id  \\\n",
       "0         13450478       5   275025208   \n",
       "1         19821878       4   275025208   \n",
       "2         14317039       1   275025208   \n",
       "3         13713637       5   275025208   \n",
       "4          7159313       4   275025208   \n",
       "...            ...     ...         ...   \n",
       "15398     16638755       5    73316970   \n",
       "15399      5330292       5    73316970   \n",
       "15400     12472234       5    73316970   \n",
       "15401      1110677       5    73316970   \n",
       "15402      7562223       5    73316970   \n",
       "\n",
       "                                           clean_content  \n",
       "0      phản_ánh tác_giả sách_trùng sách nước_ngoài nh...  \n",
       "1                       tạm_thời ổn đọc review hj yhanks  \n",
       "2      quyển sách tựa_đề lầm khách_hàng viết không đủ...  \n",
       "3                            giao hàng đóng_gói cẩn_thận  \n",
       "4             tạm đọc sách tác_giả nội_sưu_tầm trùng_lặp  \n",
       "...                                                  ...  \n",
       "15398  giấy vàng không lóa mắt mực đóng_gói giao hàng...  \n",
       "15399  sách đọc sách đổi_tư phương_pháp giáo_dục trẻ ...  \n",
       "15400  giao hàng shipper thân_thiện nhiệt_tình sách c...  \n",
       "15401       tác_giả hôm mấy đọc thử tiki hàng chất_lượng  \n",
       "15402  chất_lượng sách tốt giấy tốt tiki hàng hôm hôm...  \n",
       "\n",
       "[15403 rows x 8 columns]"
      ]
     },
     "execution_count": 32,
     "metadata": {},
     "output_type": "execute_result"
    }
   ],
   "source": [
    "luu_data(df)"
   ]
  }
 ],
 "metadata": {
  "kernelspec": {
   "display_name": "Python (tiki)",
   "language": "python",
   "name": "tiki"
  },
  "language_info": {
   "codemirror_mode": {
    "name": "ipython",
    "version": 3
   },
   "file_extension": ".py",
   "mimetype": "text/x-python",
   "name": "python",
   "nbconvert_exporter": "python",
   "pygments_lexer": "ipython3",
   "version": "3.11.10"
  }
 },
 "nbformat": 4,
 "nbformat_minor": 2
}
